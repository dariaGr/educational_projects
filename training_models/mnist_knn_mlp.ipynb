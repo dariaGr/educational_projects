{
 "cells": [
  {
   "cell_type": "markdown",
   "metadata": {},
   "source": [
    "# Using k-nearest neighbors and training multilayer perceptron on MNIST \n",
    "##### The MNIST database (Modified National Institute of Standards and Technology database) is a large database of handwritten digits."
   ]
  },
  {
   "cell_type": "markdown",
   "metadata": {},
   "source": [
    "# Step 1: Loading and observing the dataset"
   ]
  },
  {
   "cell_type": "code",
   "execution_count": 1,
   "metadata": {},
   "outputs": [],
   "source": [
    "# https://pjreddie.com/media/files/mnist_train.csv\n",
    "# https://pjreddie.com/media/files/mnist_test.csv"
   ]
  },
  {
   "cell_type": "code",
   "execution_count": 2,
   "metadata": {},
   "outputs": [],
   "source": [
    "import numpy as np\n",
    "import pandas as pd\n",
    "import matplotlib.pyplot as plt"
   ]
  },
  {
   "cell_type": "code",
   "execution_count": 3,
   "metadata": {},
   "outputs": [],
   "source": [
    "mnist_train = pd.read_csv('mnist_train.csv', header=None)\n",
    "mnist_test = pd.read_csv('mnist_test.csv', header=None)"
   ]
  },
  {
   "cell_type": "code",
   "execution_count": 4,
   "metadata": {},
   "outputs": [
    {
     "data": {
      "text/plain": [
       "(60000, 785)"
      ]
     },
     "execution_count": 4,
     "metadata": {},
     "output_type": "execute_result"
    }
   ],
   "source": [
    "mnist_train.shape "
   ]
  },
  {
   "cell_type": "code",
   "execution_count": 5,
   "metadata": {},
   "outputs": [
    {
     "data": {
      "text/plain": [
       "(10000, 785)"
      ]
     },
     "execution_count": 5,
     "metadata": {},
     "output_type": "execute_result"
    }
   ],
   "source": [
    "mnist_test.shape"
   ]
  },
  {
   "cell_type": "code",
   "execution_count": 6,
   "metadata": {},
   "outputs": [
    {
     "data": {
      "text/html": [
       "<div>\n",
       "<style scoped>\n",
       "    .dataframe tbody tr th:only-of-type {\n",
       "        vertical-align: middle;\n",
       "    }\n",
       "\n",
       "    .dataframe tbody tr th {\n",
       "        vertical-align: top;\n",
       "    }\n",
       "\n",
       "    .dataframe thead th {\n",
       "        text-align: right;\n",
       "    }\n",
       "</style>\n",
       "<table border=\"1\" class=\"dataframe\">\n",
       "  <thead>\n",
       "    <tr style=\"text-align: right;\">\n",
       "      <th></th>\n",
       "      <th>0</th>\n",
       "      <th>1</th>\n",
       "      <th>2</th>\n",
       "      <th>3</th>\n",
       "      <th>4</th>\n",
       "      <th>5</th>\n",
       "      <th>6</th>\n",
       "      <th>7</th>\n",
       "      <th>8</th>\n",
       "      <th>9</th>\n",
       "      <th>...</th>\n",
       "      <th>775</th>\n",
       "      <th>776</th>\n",
       "      <th>777</th>\n",
       "      <th>778</th>\n",
       "      <th>779</th>\n",
       "      <th>780</th>\n",
       "      <th>781</th>\n",
       "      <th>782</th>\n",
       "      <th>783</th>\n",
       "      <th>784</th>\n",
       "    </tr>\n",
       "  </thead>\n",
       "  <tbody>\n",
       "    <tr>\n",
       "      <td>0</td>\n",
       "      <td>5</td>\n",
       "      <td>0</td>\n",
       "      <td>0</td>\n",
       "      <td>0</td>\n",
       "      <td>0</td>\n",
       "      <td>0</td>\n",
       "      <td>0</td>\n",
       "      <td>0</td>\n",
       "      <td>0</td>\n",
       "      <td>0</td>\n",
       "      <td>...</td>\n",
       "      <td>0</td>\n",
       "      <td>0</td>\n",
       "      <td>0</td>\n",
       "      <td>0</td>\n",
       "      <td>0</td>\n",
       "      <td>0</td>\n",
       "      <td>0</td>\n",
       "      <td>0</td>\n",
       "      <td>0</td>\n",
       "      <td>0</td>\n",
       "    </tr>\n",
       "    <tr>\n",
       "      <td>1</td>\n",
       "      <td>0</td>\n",
       "      <td>0</td>\n",
       "      <td>0</td>\n",
       "      <td>0</td>\n",
       "      <td>0</td>\n",
       "      <td>0</td>\n",
       "      <td>0</td>\n",
       "      <td>0</td>\n",
       "      <td>0</td>\n",
       "      <td>0</td>\n",
       "      <td>...</td>\n",
       "      <td>0</td>\n",
       "      <td>0</td>\n",
       "      <td>0</td>\n",
       "      <td>0</td>\n",
       "      <td>0</td>\n",
       "      <td>0</td>\n",
       "      <td>0</td>\n",
       "      <td>0</td>\n",
       "      <td>0</td>\n",
       "      <td>0</td>\n",
       "    </tr>\n",
       "    <tr>\n",
       "      <td>2</td>\n",
       "      <td>4</td>\n",
       "      <td>0</td>\n",
       "      <td>0</td>\n",
       "      <td>0</td>\n",
       "      <td>0</td>\n",
       "      <td>0</td>\n",
       "      <td>0</td>\n",
       "      <td>0</td>\n",
       "      <td>0</td>\n",
       "      <td>0</td>\n",
       "      <td>...</td>\n",
       "      <td>0</td>\n",
       "      <td>0</td>\n",
       "      <td>0</td>\n",
       "      <td>0</td>\n",
       "      <td>0</td>\n",
       "      <td>0</td>\n",
       "      <td>0</td>\n",
       "      <td>0</td>\n",
       "      <td>0</td>\n",
       "      <td>0</td>\n",
       "    </tr>\n",
       "    <tr>\n",
       "      <td>3</td>\n",
       "      <td>1</td>\n",
       "      <td>0</td>\n",
       "      <td>0</td>\n",
       "      <td>0</td>\n",
       "      <td>0</td>\n",
       "      <td>0</td>\n",
       "      <td>0</td>\n",
       "      <td>0</td>\n",
       "      <td>0</td>\n",
       "      <td>0</td>\n",
       "      <td>...</td>\n",
       "      <td>0</td>\n",
       "      <td>0</td>\n",
       "      <td>0</td>\n",
       "      <td>0</td>\n",
       "      <td>0</td>\n",
       "      <td>0</td>\n",
       "      <td>0</td>\n",
       "      <td>0</td>\n",
       "      <td>0</td>\n",
       "      <td>0</td>\n",
       "    </tr>\n",
       "    <tr>\n",
       "      <td>4</td>\n",
       "      <td>9</td>\n",
       "      <td>0</td>\n",
       "      <td>0</td>\n",
       "      <td>0</td>\n",
       "      <td>0</td>\n",
       "      <td>0</td>\n",
       "      <td>0</td>\n",
       "      <td>0</td>\n",
       "      <td>0</td>\n",
       "      <td>0</td>\n",
       "      <td>...</td>\n",
       "      <td>0</td>\n",
       "      <td>0</td>\n",
       "      <td>0</td>\n",
       "      <td>0</td>\n",
       "      <td>0</td>\n",
       "      <td>0</td>\n",
       "      <td>0</td>\n",
       "      <td>0</td>\n",
       "      <td>0</td>\n",
       "      <td>0</td>\n",
       "    </tr>\n",
       "  </tbody>\n",
       "</table>\n",
       "<p>5 rows × 785 columns</p>\n",
       "</div>"
      ],
      "text/plain": [
       "   0    1    2    3    4    5    6    7    8    9    ...  775  776  777  778  \\\n",
       "0    5    0    0    0    0    0    0    0    0    0  ...    0    0    0    0   \n",
       "1    0    0    0    0    0    0    0    0    0    0  ...    0    0    0    0   \n",
       "2    4    0    0    0    0    0    0    0    0    0  ...    0    0    0    0   \n",
       "3    1    0    0    0    0    0    0    0    0    0  ...    0    0    0    0   \n",
       "4    9    0    0    0    0    0    0    0    0    0  ...    0    0    0    0   \n",
       "\n",
       "   779  780  781  782  783  784  \n",
       "0    0    0    0    0    0    0  \n",
       "1    0    0    0    0    0    0  \n",
       "2    0    0    0    0    0    0  \n",
       "3    0    0    0    0    0    0  \n",
       "4    0    0    0    0    0    0  \n",
       "\n",
       "[5 rows x 785 columns]"
      ]
     },
     "execution_count": 6,
     "metadata": {},
     "output_type": "execute_result"
    }
   ],
   "source": [
    "mnist_train.head(5) # 1 column for label, 784 columns for pixels"
   ]
  },
  {
   "cell_type": "code",
   "execution_count": 7,
   "metadata": {},
   "outputs": [],
   "source": [
    "# changing the names of the columns for clarity\n",
    "cols = [\"label\"]\n",
    "for i in range(784):\n",
    "    cols.append(\"px_{}\".format(i + 1))"
   ]
  },
  {
   "cell_type": "code",
   "execution_count": 8,
   "metadata": {},
   "outputs": [],
   "source": [
    "# giving the new names to the columns of our dataset\n",
    "mnist_train.columns = cols \n",
    "mnist_test.columns = cols"
   ]
  },
  {
   "cell_type": "code",
   "execution_count": 9,
   "metadata": {},
   "outputs": [
    {
     "data": {
      "text/html": [
       "<div>\n",
       "<style scoped>\n",
       "    .dataframe tbody tr th:only-of-type {\n",
       "        vertical-align: middle;\n",
       "    }\n",
       "\n",
       "    .dataframe tbody tr th {\n",
       "        vertical-align: top;\n",
       "    }\n",
       "\n",
       "    .dataframe thead th {\n",
       "        text-align: right;\n",
       "    }\n",
       "</style>\n",
       "<table border=\"1\" class=\"dataframe\">\n",
       "  <thead>\n",
       "    <tr style=\"text-align: right;\">\n",
       "      <th></th>\n",
       "      <th>label</th>\n",
       "      <th>px_1</th>\n",
       "      <th>px_2</th>\n",
       "      <th>px_3</th>\n",
       "      <th>px_4</th>\n",
       "      <th>px_5</th>\n",
       "      <th>px_6</th>\n",
       "      <th>px_7</th>\n",
       "      <th>px_8</th>\n",
       "      <th>px_9</th>\n",
       "      <th>...</th>\n",
       "      <th>px_775</th>\n",
       "      <th>px_776</th>\n",
       "      <th>px_777</th>\n",
       "      <th>px_778</th>\n",
       "      <th>px_779</th>\n",
       "      <th>px_780</th>\n",
       "      <th>px_781</th>\n",
       "      <th>px_782</th>\n",
       "      <th>px_783</th>\n",
       "      <th>px_784</th>\n",
       "    </tr>\n",
       "  </thead>\n",
       "  <tbody>\n",
       "    <tr>\n",
       "      <td>0</td>\n",
       "      <td>5</td>\n",
       "      <td>0</td>\n",
       "      <td>0</td>\n",
       "      <td>0</td>\n",
       "      <td>0</td>\n",
       "      <td>0</td>\n",
       "      <td>0</td>\n",
       "      <td>0</td>\n",
       "      <td>0</td>\n",
       "      <td>0</td>\n",
       "      <td>...</td>\n",
       "      <td>0</td>\n",
       "      <td>0</td>\n",
       "      <td>0</td>\n",
       "      <td>0</td>\n",
       "      <td>0</td>\n",
       "      <td>0</td>\n",
       "      <td>0</td>\n",
       "      <td>0</td>\n",
       "      <td>0</td>\n",
       "      <td>0</td>\n",
       "    </tr>\n",
       "    <tr>\n",
       "      <td>1</td>\n",
       "      <td>0</td>\n",
       "      <td>0</td>\n",
       "      <td>0</td>\n",
       "      <td>0</td>\n",
       "      <td>0</td>\n",
       "      <td>0</td>\n",
       "      <td>0</td>\n",
       "      <td>0</td>\n",
       "      <td>0</td>\n",
       "      <td>0</td>\n",
       "      <td>...</td>\n",
       "      <td>0</td>\n",
       "      <td>0</td>\n",
       "      <td>0</td>\n",
       "      <td>0</td>\n",
       "      <td>0</td>\n",
       "      <td>0</td>\n",
       "      <td>0</td>\n",
       "      <td>0</td>\n",
       "      <td>0</td>\n",
       "      <td>0</td>\n",
       "    </tr>\n",
       "    <tr>\n",
       "      <td>2</td>\n",
       "      <td>4</td>\n",
       "      <td>0</td>\n",
       "      <td>0</td>\n",
       "      <td>0</td>\n",
       "      <td>0</td>\n",
       "      <td>0</td>\n",
       "      <td>0</td>\n",
       "      <td>0</td>\n",
       "      <td>0</td>\n",
       "      <td>0</td>\n",
       "      <td>...</td>\n",
       "      <td>0</td>\n",
       "      <td>0</td>\n",
       "      <td>0</td>\n",
       "      <td>0</td>\n",
       "      <td>0</td>\n",
       "      <td>0</td>\n",
       "      <td>0</td>\n",
       "      <td>0</td>\n",
       "      <td>0</td>\n",
       "      <td>0</td>\n",
       "    </tr>\n",
       "    <tr>\n",
       "      <td>3</td>\n",
       "      <td>1</td>\n",
       "      <td>0</td>\n",
       "      <td>0</td>\n",
       "      <td>0</td>\n",
       "      <td>0</td>\n",
       "      <td>0</td>\n",
       "      <td>0</td>\n",
       "      <td>0</td>\n",
       "      <td>0</td>\n",
       "      <td>0</td>\n",
       "      <td>...</td>\n",
       "      <td>0</td>\n",
       "      <td>0</td>\n",
       "      <td>0</td>\n",
       "      <td>0</td>\n",
       "      <td>0</td>\n",
       "      <td>0</td>\n",
       "      <td>0</td>\n",
       "      <td>0</td>\n",
       "      <td>0</td>\n",
       "      <td>0</td>\n",
       "    </tr>\n",
       "    <tr>\n",
       "      <td>4</td>\n",
       "      <td>9</td>\n",
       "      <td>0</td>\n",
       "      <td>0</td>\n",
       "      <td>0</td>\n",
       "      <td>0</td>\n",
       "      <td>0</td>\n",
       "      <td>0</td>\n",
       "      <td>0</td>\n",
       "      <td>0</td>\n",
       "      <td>0</td>\n",
       "      <td>...</td>\n",
       "      <td>0</td>\n",
       "      <td>0</td>\n",
       "      <td>0</td>\n",
       "      <td>0</td>\n",
       "      <td>0</td>\n",
       "      <td>0</td>\n",
       "      <td>0</td>\n",
       "      <td>0</td>\n",
       "      <td>0</td>\n",
       "      <td>0</td>\n",
       "    </tr>\n",
       "  </tbody>\n",
       "</table>\n",
       "<p>5 rows × 785 columns</p>\n",
       "</div>"
      ],
      "text/plain": [
       "   label  px_1  px_2  px_3  px_4  px_5  px_6  px_7  px_8  px_9  ...  px_775  \\\n",
       "0      5     0     0     0     0     0     0     0     0     0  ...       0   \n",
       "1      0     0     0     0     0     0     0     0     0     0  ...       0   \n",
       "2      4     0     0     0     0     0     0     0     0     0  ...       0   \n",
       "3      1     0     0     0     0     0     0     0     0     0  ...       0   \n",
       "4      9     0     0     0     0     0     0     0     0     0  ...       0   \n",
       "\n",
       "   px_776  px_777  px_778  px_779  px_780  px_781  px_782  px_783  px_784  \n",
       "0       0       0       0       0       0       0       0       0       0  \n",
       "1       0       0       0       0       0       0       0       0       0  \n",
       "2       0       0       0       0       0       0       0       0       0  \n",
       "3       0       0       0       0       0       0       0       0       0  \n",
       "4       0       0       0       0       0       0       0       0       0  \n",
       "\n",
       "[5 rows x 785 columns]"
      ]
     },
     "execution_count": 9,
     "metadata": {},
     "output_type": "execute_result"
    }
   ],
   "source": [
    "mnist_train.head(5)"
   ]
  },
  {
   "cell_type": "code",
   "execution_count": 10,
   "metadata": {},
   "outputs": [],
   "source": [
    "# getting a random row and its corresponding columns and saving it to a new array\n",
    "image_row = mnist_train.values[45, 1:] "
   ]
  },
  {
   "cell_type": "code",
   "execution_count": 11,
   "metadata": {},
   "outputs": [
    {
     "data": {
      "text/plain": [
       "(784,)"
      ]
     },
     "execution_count": 11,
     "metadata": {},
     "output_type": "execute_result"
    }
   ],
   "source": [
    "image_row.shape"
   ]
  },
  {
   "cell_type": "code",
   "execution_count": 12,
   "metadata": {},
   "outputs": [
    {
     "data": {
      "text/plain": [
       "<matplotlib.image.AxesImage at 0x13a845a4a08>"
      ]
     },
     "execution_count": 12,
     "metadata": {},
     "output_type": "execute_result"
    },
    {
     "data": {
      "image/png": "[encoded data removed]",
      "text/plain": [
       "<Figure size 432x288 with 1 Axes>"
      ]
     },
     "metadata": {
      "needs_background": "light"
     },
     "output_type": "display_data"
    }
   ],
   "source": [
    "# demonstrating the image of the row \n",
    "plt.imshow(image_row.reshape(28,28), cmap=\"Greens\") # reshaping it to a square 28*28 (= 784)"
   ]
  },
  {
   "cell_type": "markdown",
   "metadata": {},
   "source": [
    "# Step 2: Using k-nearest neigbors algorithm on the dataset"
   ]
  },
  {
   "cell_type": "code",
   "execution_count": 13,
   "metadata": {},
   "outputs": [],
   "source": [
    "from sklearn.neighbors import KNeighborsClassifier # importing k-nearest neighbors classifier"
   ]
  },
  {
   "cell_type": "code",
   "execution_count": 14,
   "metadata": {},
   "outputs": [],
   "source": [
    "# saving the data about pixels to new variable\n",
    "train_data = mnist_train.values[:, 1:] \n",
    "test_data = mnist_test.values[:, 1:]"
   ]
  },
  {
   "cell_type": "code",
   "execution_count": 15,
   "metadata": {},
   "outputs": [],
   "source": [
    "# # saving the data about labels to new variable\n",
    "train_label = mnist_train.values[:, 0]\n",
    "test_label = mnist_test.values[:, 0]"
   ]
  },
  {
   "cell_type": "code",
   "execution_count": 16,
   "metadata": {},
   "outputs": [
    {
     "name": "stdout",
     "output_type": "stream",
     "text": [
      "(60000, 784) (10000, 784)\n"
     ]
    }
   ],
   "source": [
    "# checking for correctness \n",
    "print(train_data.shape, test_data.shape)"
   ]
  },
  {
   "cell_type": "code",
   "execution_count": 17,
   "metadata": {},
   "outputs": [
    {
     "name": "stdout",
     "output_type": "stream",
     "text": [
      "(60000,) (10000,)\n"
     ]
    }
   ],
   "source": [
    "print(train_label.shape, test_label.shape)"
   ]
  },
  {
   "cell_type": "code",
   "execution_count": 18,
   "metadata": {},
   "outputs": [],
   "source": [
    "# creating a classifier object\n",
    "kn_classifier = KNeighborsClassifier(n_jobs=-1) # n_jobs=-1 - put to use all the CPU cores of the machine"
   ]
  },
  {
   "cell_type": "code",
   "execution_count": 19,
   "metadata": {},
   "outputs": [],
   "source": [
    "# using the model on our data\n",
    "kn_classifier = kn_classifier.fit(train_data, train_label)"
   ]
  },
  {
   "cell_type": "code",
   "execution_count": 20,
   "metadata": {},
   "outputs": [
    {
     "name": "stdout",
     "output_type": "stream",
     "text": [
      "The pictire depicts number 9\n"
     ]
    },
    {
     "data": {
      "image/png": "[encoded data removed]",
      "text/plain": [
       "<Figure size 432x288 with 1 Axes>"
      ]
     },
     "metadata": {
      "needs_background": "light"
     },
     "output_type": "display_data"
    }
   ],
   "source": [
    "test_id = 7 # getting a random row to test the model\n",
    "\n",
    "plt.imshow(test_data[test_id, :].reshape(28, 28), cmap=\"Greens\")\n",
    "print(\"The pictire depicts number {}\".format(test_label[test_id]))"
   ]
  },
  {
   "cell_type": "code",
   "execution_count": 21,
   "metadata": {},
   "outputs": [
    {
     "data": {
      "text/plain": [
       "array([9], dtype=int64)"
      ]
     },
     "execution_count": 21,
     "metadata": {},
     "output_type": "execute_result"
    }
   ],
   "source": [
    "# predicting the number\n",
    "kn_classifier.predict(test_data[test_id, :].reshape(1, 784))"
   ]
  },
  {
   "cell_type": "code",
   "execution_count": 22,
   "metadata": {},
   "outputs": [],
   "source": [
    "from sklearn.metrics import accuracy_score # importing accuracy scoring"
   ]
  },
  {
   "cell_type": "code",
   "execution_count": 23,
   "metadata": {},
   "outputs": [],
   "source": [
    "kn_predictions = kn_classifier.predict(test_data) # using prediction on the whole test date"
   ]
  },
  {
   "cell_type": "code",
   "execution_count": 24,
   "metadata": {},
   "outputs": [
    {
     "name": "stdout",
     "output_type": "stream",
     "text": [
      "Accuracy: 96.88%\n"
     ]
    }
   ],
   "source": [
    "# checking the accuracy of the model \n",
    "print(\"Accuracy: {}%\".format(accuracy_score(test_label, kn_predictions) * 100)) "
   ]
  },
  {
   "cell_type": "markdown",
   "metadata": {},
   "source": [
    "# Step 3: Training multilayer perceptron neural network on the dataset"
   ]
  },
  {
   "cell_type": "code",
   "execution_count": 25,
   "metadata": {},
   "outputs": [],
   "source": [
    "from sklearn.neural_network import MLPClassifier # importing multilayer perceptron classifier"
   ]
  },
  {
   "cell_type": "code",
   "execution_count": 26,
   "metadata": {},
   "outputs": [],
   "source": [
    "# creating a classifier object\n",
    "mlp_classifier = MLPClassifier(verbose=True)"
   ]
  },
  {
   "cell_type": "code",
   "execution_count": 27,
   "metadata": {},
   "outputs": [
    {
     "name": "stdout",
     "output_type": "stream",
     "text": [
      "Iteration 1, loss = 6.60338272\n",
      "Iteration 2, loss = 1.10592470\n",
      "Iteration 3, loss = 0.54857368\n",
      "Iteration 4, loss = 0.36648982\n",
      "Iteration 5, loss = 0.27408005\n",
      "Iteration 6, loss = 0.22175455\n",
      "Iteration 7, loss = 0.17875424\n",
      "Iteration 8, loss = 0.16221438\n",
      "Iteration 9, loss = 0.14248047\n",
      "Iteration 10, loss = 0.13212916\n",
      "Iteration 11, loss = 0.11789289\n",
      "Iteration 12, loss = 0.11710869\n",
      "Iteration 13, loss = 0.12044110\n",
      "Iteration 14, loss = 0.10964409\n",
      "Iteration 15, loss = 0.10319531\n",
      "Iteration 16, loss = 0.09724851\n",
      "Iteration 17, loss = 0.09197052\n",
      "Iteration 18, loss = 0.10211723\n",
      "Iteration 19, loss = 0.09715765\n",
      "Iteration 20, loss = 0.08242766\n",
      "Iteration 21, loss = 0.09619872\n",
      "Iteration 22, loss = 0.08601149\n",
      "Iteration 23, loss = 0.07727612\n",
      "Iteration 24, loss = 0.08175851\n",
      "Iteration 25, loss = 0.07136706\n",
      "Iteration 26, loss = 0.06865596\n",
      "Iteration 27, loss = 0.07480436\n",
      "Iteration 28, loss = 0.06968418\n",
      "Iteration 29, loss = 0.07053198\n",
      "Iteration 30, loss = 0.06452635\n",
      "Iteration 31, loss = 0.05720280\n",
      "Iteration 32, loss = 0.06595340\n",
      "Iteration 33, loss = 0.06333160\n",
      "Iteration 34, loss = 0.06623899\n",
      "Iteration 35, loss = 0.05535212\n",
      "Iteration 36, loss = 0.05136006\n",
      "Iteration 37, loss = 0.05031531\n",
      "Iteration 38, loss = 0.05905840\n",
      "Iteration 39, loss = 0.05041700\n",
      "Iteration 40, loss = 0.06047881\n",
      "Iteration 41, loss = 0.05079737\n",
      "Iteration 42, loss = 0.05356087\n",
      "Iteration 43, loss = 0.04233597\n",
      "Iteration 44, loss = 0.03963222\n",
      "Iteration 45, loss = 0.04582042\n",
      "Iteration 46, loss = 0.05596929\n",
      "Iteration 47, loss = 0.04485608\n",
      "Iteration 48, loss = 0.04455904\n",
      "Iteration 49, loss = 0.04050375\n",
      "Iteration 50, loss = 0.03854836\n",
      "Iteration 51, loss = 0.03852367\n",
      "Iteration 52, loss = 0.03638710\n",
      "Iteration 53, loss = 0.05020079\n",
      "Iteration 54, loss = 0.04697775\n",
      "Iteration 55, loss = 0.04248488\n",
      "Iteration 56, loss = 0.04344540\n",
      "Iteration 57, loss = 0.04366914\n",
      "Iteration 58, loss = 0.04824704\n",
      "Iteration 59, loss = 0.04205826\n",
      "Iteration 60, loss = 0.03778617\n",
      "Iteration 61, loss = 0.03616690\n",
      "Iteration 62, loss = 0.03645830\n",
      "Iteration 63, loss = 0.03308313\n",
      "Iteration 64, loss = 0.03937858\n",
      "Iteration 65, loss = 0.04443781\n",
      "Iteration 66, loss = 0.03937321\n",
      "Iteration 67, loss = 0.04121181\n",
      "Iteration 68, loss = 0.03500793\n",
      "Iteration 69, loss = 0.05445525\n",
      "Iteration 70, loss = 0.04476261\n",
      "Iteration 71, loss = 0.03974130\n",
      "Iteration 72, loss = 0.02651972\n",
      "Iteration 73, loss = 0.02369156\n",
      "Iteration 74, loss = 0.03717103\n",
      "Iteration 75, loss = 0.03906201\n",
      "Iteration 76, loss = 0.03512045\n",
      "Iteration 77, loss = 0.04150136\n",
      "Iteration 78, loss = 0.02870331\n",
      "Iteration 79, loss = 0.03335322\n",
      "Iteration 80, loss = 0.04837324\n",
      "Iteration 81, loss = 0.03884849\n",
      "Iteration 82, loss = 0.03093492\n",
      "Iteration 83, loss = 0.03373476\n",
      "Iteration 84, loss = 0.02266077\n",
      "Iteration 85, loss = 0.02368580\n",
      "Iteration 86, loss = 0.03598181\n",
      "Iteration 87, loss = 0.05468254\n",
      "Iteration 88, loss = 0.04080661\n",
      "Iteration 89, loss = 0.02107626\n",
      "Iteration 90, loss = 0.03353438\n",
      "Iteration 91, loss = 0.02658906\n",
      "Iteration 92, loss = 0.03257905\n",
      "Iteration 93, loss = 0.03627820\n",
      "Iteration 94, loss = 0.05373613\n",
      "Iteration 95, loss = 0.04075687\n",
      "Iteration 96, loss = 0.03606324\n",
      "Iteration 97, loss = 0.02154107\n",
      "Iteration 98, loss = 0.01690684\n",
      "Iteration 99, loss = 0.03254364\n",
      "Iteration 100, loss = 0.04167981\n",
      "Iteration 101, loss = 0.03360583\n",
      "Iteration 102, loss = 0.03679860\n",
      "Iteration 103, loss = 0.03038065\n",
      "Iteration 104, loss = 0.03142142\n",
      "Iteration 105, loss = 0.03483089\n",
      "Iteration 106, loss = 0.02408998\n",
      "Iteration 107, loss = 0.03263958\n",
      "Iteration 108, loss = 0.03477129\n",
      "Iteration 109, loss = 0.03391863\n",
      "Training loss did not improve more than tol=0.000100 for 10 consecutive epochs. Stopping.\n"
     ]
    }
   ],
   "source": [
    "# training the model on our data\n",
    "mlp_classifier = mlp_classifier.fit(train_data, train_label)"
   ]
  },
  {
   "cell_type": "code",
   "execution_count": 28,
   "metadata": {},
   "outputs": [
    {
     "name": "stdout",
     "output_type": "stream",
     "text": [
      "The pictire depicts number 1\n"
     ]
    },
    {
     "data": {
      "image/png": "[encoded data removed]",
      "text/plain": [
       "<Figure size 432x288 with 1 Axes>"
      ]
     },
     "metadata": {
      "needs_background": "light"
     },
     "output_type": "display_data"
    }
   ],
   "source": [
    "test_id = 57 # getting a random row to test the model\n",
    "\n",
    "plt.imshow(test_data[test_id, :].reshape(28, 28), cmap=\"Greens\")\n",
    "print(\"The pictire depicts number {}\".format(test_label[test_id]))"
   ]
  },
  {
   "cell_type": "code",
   "execution_count": 29,
   "metadata": {},
   "outputs": [
    {
     "data": {
      "text/plain": [
       "array([1], dtype=int64)"
      ]
     },
     "execution_count": 29,
     "metadata": {},
     "output_type": "execute_result"
    }
   ],
   "source": [
    "# predicting the number\n",
    "mlp_classifier.predict(test_data[test_id, :].reshape(1, 784))"
   ]
  },
  {
   "cell_type": "code",
   "execution_count": 30,
   "metadata": {},
   "outputs": [],
   "source": [
    "mlp_predictions = mlp_classifier.predict(test_data) # using prediction on the whole test date"
   ]
  },
  {
   "cell_type": "code",
   "execution_count": 31,
   "metadata": {},
   "outputs": [
    {
     "name": "stdout",
     "output_type": "stream",
     "text": [
      "Accuracy: 96.87%\n"
     ]
    }
   ],
   "source": [
    "# checking the accuracy of the model \n",
    "print(\"Accuracy: {}%\".format(accuracy_score(test_label, mlp_predictions) * 100)) "
   ]
  },
  {
   "cell_type": "code",
   "execution_count": null,
   "metadata": {},
   "outputs": [],
   "source": []
  }
 ],
 "metadata": {
  "kernelspec": {
   "display_name": "Python 3",
   "language": "python",
   "name": "python3"
  },
  "language_info": {
   "codemirror_mode": {
    "name": "ipython",
    "version": 3
   },
   "file_extension": ".py",
   "mimetype": "text/x-python",
   "name": "python",
   "nbconvert_exporter": "python",
   "pygments_lexer": "ipython3",
   "version": "3.7.4"
  }
 },
 "nbformat": 4,
 "nbformat_minor": 2
}
